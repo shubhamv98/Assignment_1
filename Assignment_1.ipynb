{
 "cells": [
  {
   "cell_type": "code",
   "execution_count": 2,
   "id": "9ca2bf49-f8fe-450a-adca-c3eea15adcd1",
   "metadata": {},
   "outputs": [
    {
     "name": "stdout",
     "output_type": "stream",
     "text": [
      "apple\n",
      "banana\n",
      "cherry\n"
     ]
    },
    {
     "name": "stdin",
     "output_type": "stream",
     "text": [
      "Enter the password:  656+5\n"
     ]
    },
    {
     "name": "stdout",
     "output_type": "stream",
     "text": [
      "Incorrect password, try again.\n"
     ]
    },
    {
     "name": "stdin",
     "output_type": "stream",
     "text": [
      "Enter the password:  56541\n"
     ]
    },
    {
     "name": "stdout",
     "output_type": "stream",
     "text": [
      "Incorrect password, try again.\n"
     ]
    },
    {
     "name": "stdin",
     "output_type": "stream",
     "text": [
      "Enter the password:  56464\n"
     ]
    },
    {
     "name": "stdout",
     "output_type": "stream",
     "text": [
      "Incorrect password, try again.\n"
     ]
    },
    {
     "name": "stdin",
     "output_type": "stream",
     "text": [
      "Enter the password:  secret123\n"
     ]
    },
    {
     "name": "stdout",
     "output_type": "stream",
     "text": [
      "Password accepted.\n"
     ]
    },
    {
     "data": {
      "text/plain": [
       "'\\nExplanation: You use a while loop here because you do not know how many times you need to ask the user for the password; it depends on when the user finally enters the correct one.\\nThe loop continues to execute as long as the condition entered_password != correct_password is true.\\n\\nSummary\\nUse a for loop when you know the number of iterations or are iterating over a sequence.\\nUse a while loop when you need to repeat actions until a condition changes and you do not know the number of iterations in advance.\\n'"
      ]
     },
     "execution_count": 2,
     "metadata": {},
     "output_type": "execute_result"
    }
   ],
   "source": [
    "# Q1. Explain with an example each when to use a for loop and a while loop.\n",
    "\"\"\"\n",
    "                                                                    ANSWER \n",
    "Here’s an explanation with examples for each:\n",
    "\n",
    "for Loop Use Case: Iterating Over a Sequence\n",
    "A for loop is typically used when you know in advance how many times you want to iterate or when you are iterating over a sequence (such as a list, tuple, string, or range).\n",
    "\n",
    "Example: Suppose you want to print each item in a list:\n",
    "\"\"\"\n",
    "\n",
    "fruits = ['apple', 'banana', 'cherry']\n",
    "\n",
    "for fruit in fruits:\n",
    "    print(fruit)\n",
    "\n",
    "\"\"\"    \n",
    "Explanation: You use a for loop here because you want to iterate over each element in the list fruits.\n",
    "The loop runs once for each element in the list, making it a good fit for scenarios where the number of iterations is determined by the sequence.\n",
    "\n",
    "                                                                     \n",
    "while Loop Use Case: Looping Until a Condition is Met\n",
    "A while loop is used when you want to continue looping as long as a certain condition is true. It is generally used when you do not know in advance how many times you need to iterate.\n",
    "\n",
    "Example: Suppose you want to keep asking the user for a password until they enter the correct one:\n",
    "\"\"\"\n",
    "\n",
    "correct_password = 'secret123'\n",
    "entered_password = ''\n",
    "\n",
    "while entered_password != correct_password:\n",
    "    entered_password = input('Enter the password: ')\n",
    "    if entered_password != correct_password:\n",
    "        print('Incorrect password, try again.')\n",
    "\n",
    "print('Password accepted.')\n",
    "\n",
    "\"\"\"\n",
    "Explanation: You use a while loop here because you do not know how many times you need to ask the user for the password; it depends on when the user finally enters the correct one.\n",
    "The loop continues to execute as long as the condition entered_password != correct_password is true.\n",
    "\n",
    "Summary\n",
    "Use a for loop when you know the number of iterations or are iterating over a sequence.\n",
    "Use a while loop when you need to repeat actions until a condition changes and you do not know the number of iterations in advance.\n",
    "\"\"\""
   ]
  },
  {
   "cell_type": "code",
   "execution_count": 4,
   "id": "b2accf35-7e3f-448d-9739-0c359f568677",
   "metadata": {},
   "outputs": [
    {
     "name": "stdout",
     "output_type": "stream",
     "text": [
      "Using for loop:\n",
      "Sum of the first 10 natural numbers: 55\n",
      "Product of the first 10 natural numbers: 3628800\n",
      "Using while loop:\n",
      "Sum of the first 10 natural numbers: 55\n",
      "Product of the first 10 natural numbers: 3628800\n"
     ]
    }
   ],
   "source": [
    "# Q2. Write a python program to print the sum and product of the first 10 natural numbers using for and while loop.\n",
    "\n",
    "\"\"\"\n",
    "                                                                    ANSWER\n",
    "Certainly! Here are Python programs that calculate the sum and product of the first 10 natural numbers using both for and while loops.\n",
    "\"\"\"\n",
    "\n",
    "# Using for loop\n",
    "sum_for = 0\n",
    "product_for = 1\n",
    "\n",
    "for i in range(1, 11):  # Loop from 1 to 10 inclusive\n",
    "    sum_for += i\n",
    "    product_for *= i\n",
    "\n",
    "print(\"Using for loop:\")\n",
    "print(\"Sum of the first 10 natural numbers:\", sum_for)\n",
    "print(\"Product of the first 10 natural numbers:\", product_for)\n",
    "\n",
    "\n",
    "\n",
    "# Using while loop\n",
    "sum_while = 0\n",
    "product_while = 1\n",
    "i = 1\n",
    "\n",
    "while i <= 10:  # Loop while i is less than or equal to 10\n",
    "    sum_while += i\n",
    "    product_while *= i\n",
    "    i += 1  # Increment i\n",
    "\n",
    "print(\"Using while loop:\")\n",
    "print(\"Sum of the first 10 natural numbers:\", sum_while)\n",
    "print(\"Product of the first 10 natural numbers:\", product_while)"
   ]
  },
  {
   "cell_type": "code",
   "execution_count": 7,
   "id": "453e63a2-3bd7-4df6-8572-66ccd63342e0",
   "metadata": {},
   "outputs": [
    {
     "name": "stdin",
     "output_type": "stream",
     "text": [
      "Enter the number of units consumed:  310\n"
     ]
    },
    {
     "name": "stdout",
     "output_type": "stream",
     "text": [
      "The total electricity bill is: Rs. 2250.00\n"
     ]
    }
   ],
   "source": [
    "# Q3. Create a python program to compute the electricity bill for a household.The per-unit charges in rupees are as follows: For the first 100 units, the user will be charged Rs. 4.5 per\n",
    "# unit, for the next 100 units, the user will be charged Rs. 6 per unit, and for the next 100 units, the user will\n",
    "# be charged Rs. 10 per unit, After 300 units and above the user will be charged Rs. 20 per unit.\n",
    "# You are required to take the units of electricity consumed in a month from the user as input.\n",
    "# Your program must pass this test case: when the unit of electricity consumed by the user in a month is\n",
    "# 310, the total electricity bill should be 2250.\n",
    "\n",
    "\"\"\"\n",
    "                                                                    ANSWER\n",
    "Here's a Python program to compute the electricity bill based on the given per-unit charges:\n",
    "\"\"\"\n",
    "\n",
    "def compute_electricity_bill(units):\n",
    "    if units <= 100:\n",
    "        bill = units * 4.5\n",
    "    elif units <= 200:\n",
    "        bill = (100 * 4.5) + ((units - 100) * 6)\n",
    "    elif units <= 300:\n",
    "        bill = (100 * 4.5) + (100 * 6) + ((units - 200) * 10)\n",
    "    else:\n",
    "        bill = (100 * 4.5) + (100 * 6) + (100 * 10) + ((units - 300) * 20)\n",
    "    \n",
    "    return bill\n",
    "\n",
    "# Take input from the user\n",
    "units_consumed = float(input(\"Enter the number of units consumed: \"))\n",
    "\n",
    "# Compute the bill\n",
    "total_bill = compute_electricity_bill(units_consumed)\n",
    "\n",
    "# Print the result\n",
    "print(f\"The total electricity bill is: Rs. {total_bill:.2f}\")"
   ]
  },
  {
   "cell_type": "code",
   "execution_count": 8,
   "id": "20e61558-f0a5-43f7-9c1a-9a92abe91206",
   "metadata": {},
   "outputs": [
    {
     "name": "stdout",
     "output_type": "stream",
     "text": [
      "Numbers whose cubes are divisible by 4 or 5 (using for loop):\n",
      "[2, 4, 5, 6, 8, 10, 12, 14, 15, 16, 18, 20, 22, 24, 25, 26, 28, 30, 32, 34, 35, 36, 38, 40, 42, 44, 45, 46, 48, 50, 52, 54, 55, 56, 58, 60, 62, 64, 65, 66, 68, 70, 72, 74, 75, 76, 78, 80, 82, 84, 85, 86, 88, 90, 92, 94, 95, 96, 98, 100]\n",
      "Numbers whose cubes are divisible by 4 or 5 (using while loop):\n",
      "[2, 4, 5, 6, 8, 10, 12, 14, 15, 16, 18, 20, 22, 24, 25, 26, 28, 30, 32, 34, 35, 36, 38, 40, 42, 44, 45, 46, 48, 50, 52, 54, 55, 56, 58, 60, 62, 64, 65, 66, 68, 70, 72, 74, 75, 76, 78, 80, 82, 84, 85, 86, 88, 90, 92, 94, 95, 96, 98, 100]\n"
     ]
    }
   ],
   "source": [
    "# Q4. Create a list of numbers from 1 to 100. Use for loop and while loop to calculate the cube of each\n",
    "# number and if the cube of that number is divisible by 4 or 5 then append that number in a list and print\n",
    "# that list.\n",
    "\n",
    "\"\"\"\n",
    "                                                                    ANSWER\n",
    "Here's how you can accomplish this task using both for and while loops.\n",
    "\"\"\"\n",
    "\n",
    "# Using for Loop\n",
    "# List to store numbers whose cubes are divisible by 4 or 5\n",
    "result_for = []\n",
    "\n",
    "# Create a list of numbers from 1 to 100\n",
    "numbers = range(1, 101)\n",
    "\n",
    "# Iterate through each number in the list\n",
    "for num in numbers:\n",
    "    cube = num ** 3  # Calculate the cube of the number\n",
    "    if cube % 4 == 0 or cube % 5 == 0:\n",
    "        result_for.append(num)  # Append the number to the result list if the cube is divisible by 4 or 5\n",
    "\n",
    "print(\"Numbers whose cubes are divisible by 4 or 5 (using for loop):\")\n",
    "print(result_for)\n",
    "\n",
    "\n",
    "# Using while Loop\n",
    "# List to store numbers whose cubes are divisible by 4 or 5\n",
    "result_while = []\n",
    "\n",
    "# Initialize the starting number\n",
    "num = 1\n",
    "\n",
    "# Loop while the number is less than or equal to 100\n",
    "while num <= 100:\n",
    "    cube = num ** 3  # Calculate the cube of the number\n",
    "    if cube % 4 == 0 or cube % 5 == 0:\n",
    "        result_while.append(num)  # Append the number to the result list if the cube is divisible by 4 or 5\n",
    "    num += 1  # Increment the number\n",
    "\n",
    "print(\"Numbers whose cubes are divisible by 4 or 5 (using while loop):\")\n",
    "print(result_while)"
   ]
  },
  {
   "cell_type": "code",
   "execution_count": null,
   "id": "eb1aec98-7b2e-4c1d-aeb5-d14df20e0308",
   "metadata": {},
   "outputs": [],
   "source": []
  }
 ],
 "metadata": {
  "kernelspec": {
   "display_name": "Python 3 (ipykernel)",
   "language": "python",
   "name": "python3"
  },
  "language_info": {
   "codemirror_mode": {
    "name": "ipython",
    "version": 3
   },
   "file_extension": ".py",
   "mimetype": "text/x-python",
   "name": "python",
   "nbconvert_exporter": "python",
   "pygments_lexer": "ipython3",
   "version": "3.12.4"
  }
 },
 "nbformat": 4,
 "nbformat_minor": 5
}
